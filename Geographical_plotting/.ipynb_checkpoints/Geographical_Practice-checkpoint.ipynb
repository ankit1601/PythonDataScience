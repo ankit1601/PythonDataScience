{
 "cells": [
  {
   "cell_type": "code",
   "execution_count": 2,
   "metadata": {},
   "outputs": [],
   "source": [
    "import plotly.plotly as py"
   ]
  },
  {
   "cell_type": "code",
   "execution_count": 3,
   "metadata": {
    "collapsed": true
   },
   "outputs": [],
   "source": [
    "from plotly.offline import download_plotlyjs,init_notebook_mode,iplot"
   ]
  },
  {
   "cell_type": "code",
   "execution_count": 4,
   "metadata": {},
   "outputs": [
    {
     "data": {
      "text/html": [
       "<script>requirejs.config({paths: { 'plotly': ['https://cdn.plot.ly/plotly-latest.min']},});if(!window.Plotly) {{require(['plotly'],function(plotly) {window.Plotly=plotly;});}}</script>"
      ],
      "text/vnd.plotly.v1+html": [
       "<script>requirejs.config({paths: { 'plotly': ['https://cdn.plot.ly/plotly-latest.min']},});if(!window.Plotly) {{require(['plotly'],function(plotly) {window.Plotly=plotly;});}}</script>"
      ]
     },
     "metadata": {},
     "output_type": "display_data"
    }
   ],
   "source": [
    "init_notebook_mode(connected=True)"
   ]
  },
  {
   "cell_type": "code",
   "execution_count": 15,
   "metadata": {
    "collapsed": true
   },
   "outputs": [],
   "source": [
    "data = dict(type='choropleth',\n",
    "           locations=['AZ','CA','NY'],\n",
    "           locationmode = 'USA-states',\n",
    "           colorscale='Greens',\n",
    "           text=['text1','text2','text3'],\n",
    "           z=[1.0,2.0,3.0],\n",
    "           colorbar={'title':'Colorbar Title Goes Here'})"
   ]
  },
  {
   "cell_type": "code",
   "execution_count": 6,
   "metadata": {},
   "outputs": [
    {
     "data": {
      "text/plain": [
       "{'colorbar': {'title': 'Colorbar Title Goes Here'},\n",
       " 'colorscale': 'Portland',\n",
       " 'locationmode': 'USA-states',\n",
       " 'locations': ['AZ', 'CA', 'NY'],\n",
       " 'text': ['text1', 'text2', 'text3'],\n",
       " 'type': 'choropleth',\n",
       " 'z': [1.0, 2.0, 3.0]}"
      ]
     },
     "execution_count": 6,
     "metadata": {},
     "output_type": "execute_result"
    }
   ],
   "source": [
    "data"
   ]
  },
  {
   "cell_type": "code",
   "execution_count": 7,
   "metadata": {
    "collapsed": true
   },
   "outputs": [],
   "source": [
    "layout = dict(geo={'scope':'usa'})"
   ]
  },
  {
   "cell_type": "code",
   "execution_count": 9,
   "metadata": {
    "collapsed": true
   },
   "outputs": [],
   "source": [
    "import plotly.graph_objs as go"
   ]
  },
  {
   "cell_type": "code",
   "execution_count": 17,
   "metadata": {
    "collapsed": true
   },
   "outputs": [],
   "source": [
    "choromap =go.Figure(data=[data],layout=layout)"
   ]
  },
  {
   "cell_type": "code",
   "execution_count": 18,
   "metadata": {},
   "outputs": [
    {
     "data": {
      "application/vnd.plotly.v1+json": {
       "data": [
        {
         "colorbar": {
          "title": "Colorbar Title Goes Here"
         },
         "colorscale": "Greens",
         "locationmode": "USA-states",
         "locations": [
          "AZ",
          "CA",
          "NY"
         ],
         "text": [
          "text1",
          "text2",
          "text3"
         ],
         "type": "choropleth",
         "z": [
          1,
          2,
          3
         ]
        }
       ],
       "layout": {
        "geo": {
         "scope": "usa"
        }
       }
      },
      "text/html": [
       "<div id=\"39dafec6-bd42-41ba-be8f-ad8a236e5243\" style=\"height: 525px; width: 100%;\" class=\"plotly-graph-div\"></div><script type=\"text/javascript\">require([\"plotly\"], function(Plotly) { window.PLOTLYENV=window.PLOTLYENV || {};window.PLOTLYENV.BASE_URL=\"https://plot.ly\";Plotly.newPlot(\"39dafec6-bd42-41ba-be8f-ad8a236e5243\", [{\"colorbar\": {\"title\": \"Colorbar Title Goes Here\"}, \"locationmode\": \"USA-states\", \"locations\": [\"AZ\", \"CA\", \"NY\"], \"type\": \"choropleth\", \"colorscale\": \"Greens\", \"z\": [1.0, 2.0, 3.0], \"text\": [\"text1\", \"text2\", \"text3\"]}], {\"geo\": {\"scope\": \"usa\"}}, {\"showLink\": true, \"linkText\": \"Export to plot.ly\"})});</script>"
      ],
      "text/vnd.plotly.v1+html": [
       "<div id=\"39dafec6-bd42-41ba-be8f-ad8a236e5243\" style=\"height: 525px; width: 100%;\" class=\"plotly-graph-div\"></div><script type=\"text/javascript\">require([\"plotly\"], function(Plotly) { window.PLOTLYENV=window.PLOTLYENV || {};window.PLOTLYENV.BASE_URL=\"https://plot.ly\";Plotly.newPlot(\"39dafec6-bd42-41ba-be8f-ad8a236e5243\", [{\"colorbar\": {\"title\": \"Colorbar Title Goes Here\"}, \"locationmode\": \"USA-states\", \"locations\": [\"AZ\", \"CA\", \"NY\"], \"type\": \"choropleth\", \"colorscale\": \"Greens\", \"z\": [1.0, 2.0, 3.0], \"text\": [\"text1\", \"text2\", \"text3\"]}], {\"geo\": {\"scope\": \"usa\"}}, {\"showLink\": true, \"linkText\": \"Export to plot.ly\"})});</script>"
      ]
     },
     "metadata": {},
     "output_type": "display_data"
    }
   ],
   "source": [
    "iplot(choromap) #try plot(choromap)"
   ]
  },
  {
   "cell_type": "code",
   "execution_count": null,
   "metadata": {
    "collapsed": true
   },
   "outputs": [],
   "source": []
  }
 ],
 "metadata": {
  "kernelspec": {
   "display_name": "Python 3",
   "language": "python",
   "name": "python3"
  },
  "language_info": {
   "codemirror_mode": {
    "name": "ipython",
    "version": 3
   },
   "file_extension": ".py",
   "mimetype": "text/x-python",
   "name": "python",
   "nbconvert_exporter": "python",
   "pygments_lexer": "ipython3",
   "version": "3.5.3"
  }
 },
 "nbformat": 4,
 "nbformat_minor": 2
}
